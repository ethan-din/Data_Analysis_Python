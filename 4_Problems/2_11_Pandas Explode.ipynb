{
 "cells": [
  {
   "cell_type": "markdown",
   "id": "151f49b1",
   "metadata": {},
   "source": [
    "<a target=\"_blank\" href=\"https://colab.research.google.com/github/lukebarousse/Python_Data_Analytics_Course/blob/main/4_Problems/2_11_Pandas Explode.ipynb\">\n",
    "  <img src=\"https://colab.research.google.com/assets/colab-badge.svg\" alt=\"Open In Colab\"/>\n",
    "</a>"
   ]
  },
  {
   "cell_type": "code",
   "execution_count": 34,
   "id": "b3e2f3ad",
   "metadata": {},
   "outputs": [],
   "source": [
    "# Importing Libraries\n",
    "import pandas as pd\n",
    "from datasets import load_dataset\n",
    "import matplotlib.pyplot as plt  \n",
    "\n",
    "# Loading Data\n",
    "dataset = load_dataset('lukebarousse/data_jobs')\n",
    "df = dataset['train'].to_pandas()\n",
    "\n",
    "# Data Cleanup\n",
    "df['job_posted_date'] = pd.to_datetime(df['job_posted_date'])"
   ]
  },
  {
   "cell_type": "markdown",
   "id": "cb04c5ff",
   "metadata": {},
   "source": [
    "## 🟨 Bar Plot of Top Skills for Cloud Engineers (2.11.1)"
   ]
  },
  {
   "cell_type": "code",
   "execution_count": 15,
   "id": "c10183d5",
   "metadata": {},
   "outputs": [
    {
     "data": {
      "image/png": "[encoded data removed]",
      "text/plain": [
       "<Figure size 640x480 with 1 Axes>"
      ]
     },
     "metadata": {},
     "output_type": "display_data"
    }
   ],
   "source": [
    "# Problem Statement:\n",
    "# Using the ast library, clean up the job_skills column to be of the list data type in preparation for exploding this column.\n",
    "# NOTE: For future problems, it'll be assumed that you have done this step in preparation for exploding this column.\n",
    "# Explode the job_skills column in the DataFrame and create a bar plot using pandas of the top 10 most common skills for Cloud Engineer.\n",
    "# Add labels for the x-axis (label as 'Skills'), y-axis (label as 'Count') and a title (set as 'Top 10 Most Common Skills for Cloud Engineers') for the plot.\n",
    "import ast\n",
    "df_CE=df[df.job_title_short=='Cloud Engineer'].copy()\n",
    "def method(skill):\n",
    "    if skill is not None:\n",
    "        return ast.literal_eval(skill)\n",
    "    else:\n",
    "        return skill\n",
    "df_CE['job_skills']=df_CE.job_skills.apply(method)\n",
    "de_CE_exploded=df_CE.explode('job_skills')\n",
    "skill_count=de_CE_exploded.groupby('job_skills').size().sort_values(ascending=False).head(10)\n",
    "skill_count.plot(kind='bar')\n",
    "plt.xlabel('Skills')\n",
    "plt.ylabel('Count')\n",
    "plt.title('Top 10 Most Common Skills for Cloud Engineers')\n",
    "plt.show()"
   ]
  },
  {
   "cell_type": "markdown",
   "id": "c1665a4a",
   "metadata": {},
   "source": [
    "---"
   ]
  },
  {
   "cell_type": "markdown",
   "id": "8bcde311",
   "metadata": {},
   "source": [
    "## 🟨 Average Salary by Skill (2.11.2)"
   ]
  },
  {
   "cell_type": "code",
   "execution_count": 30,
   "id": "c50e8ab5",
   "metadata": {},
   "outputs": [
    {
     "data": {
      "text/plain": [
       "job_skills\n",
       "debian         196500.000000\n",
       "ringcentral    182500.000000\n",
       "lua            170500.000000\n",
       "mongo          169526.929749\n",
       "dplyr          160667.210526\n",
       "Name: salary_year_avg, dtype: float64"
      ]
     },
     "execution_count": 30,
     "metadata": {},
     "output_type": "execute_result"
    }
   ],
   "source": [
    "# Problem Statement:\n",
    "# Explode the job_skills column in the DataFrame and calculate the average salary for each skill. \n",
    "# Display the top 5 skills with the highest average salary.\n",
    "\n",
    "import ast\n",
    "df_copy=df.copy()\n",
    "def method(skill):\n",
    "    if skill is not None:\n",
    "        return ast.literal_eval(skill)\n",
    "    else:\n",
    "        return skill\n",
    "df_copy['job_skills']=df_copy.job_skills.apply(method)\n",
    "de_exploded=df_copy.explode('job_skills')\n",
    "de_exploded.groupby('job_skills')['salary_year_avg'].mean().sort_values(ascending=False).head()"
   ]
  },
  {
   "cell_type": "markdown",
   "id": "59fbbae6",
   "metadata": {},
   "source": [
    "---"
   ]
  },
  {
   "cell_type": "markdown",
   "id": "1cd5bcba",
   "metadata": {},
   "source": [
    "## 🟥 Unique Skills Count (2.11.3)"
   ]
  },
  {
   "cell_type": "code",
   "execution_count": 42,
   "id": "a3ca6d9d",
   "metadata": {},
   "outputs": [
    {
     "data": {
      "text/html": [
       "<div>\n",
       "<style scoped>\n",
       "    .dataframe tbody tr th:only-of-type {\n",
       "        vertical-align: middle;\n",
       "    }\n",
       "\n",
       "    .dataframe tbody tr th {\n",
       "        vertical-align: top;\n",
       "    }\n",
       "\n",
       "    .dataframe thead th {\n",
       "        text-align: right;\n",
       "    }\n",
       "</style>\n",
       "<table border=\"1\" class=\"dataframe\">\n",
       "  <thead>\n",
       "    <tr style=\"text-align: right;\">\n",
       "      <th></th>\n",
       "      <th>job_title_short</th>\n",
       "      <th>job_skills</th>\n",
       "    </tr>\n",
       "  </thead>\n",
       "  <tbody>\n",
       "    <tr>\n",
       "      <th>0</th>\n",
       "      <td>Business Analyst</td>\n",
       "      <td>223</td>\n",
       "    </tr>\n",
       "    <tr>\n",
       "      <th>1</th>\n",
       "      <td>Cloud Engineer</td>\n",
       "      <td>213</td>\n",
       "    </tr>\n",
       "    <tr>\n",
       "      <th>2</th>\n",
       "      <td>Data Analyst</td>\n",
       "      <td>235</td>\n",
       "    </tr>\n",
       "    <tr>\n",
       "      <th>3</th>\n",
       "      <td>Data Engineer</td>\n",
       "      <td>239</td>\n",
       "    </tr>\n",
       "    <tr>\n",
       "      <th>4</th>\n",
       "      <td>Data Scientist</td>\n",
       "      <td>237</td>\n",
       "    </tr>\n",
       "  </tbody>\n",
       "</table>\n",
       "</div>"
      ],
      "text/plain": [
       "    job_title_short  job_skills\n",
       "0  Business Analyst         223\n",
       "1    Cloud Engineer         213\n",
       "2      Data Analyst         235\n",
       "3     Data Engineer         239\n",
       "4    Data Scientist         237"
      ]
     },
     "execution_count": 42,
     "metadata": {},
     "output_type": "execute_result"
    }
   ],
   "source": [
    "# Problem Statement:\n",
    "# Calculate the number of unique skills required for each job_title_short.\n",
    "\n",
    "# Explode the job_skills column\n",
    "\n",
    "# Group by job_title_short\n",
    "\n",
    "# Count unique skills per title (i.e., num_unique_skills)\n",
    "\n",
    "# Rename the result column to num_unique_skills and show the first 5 rows\n",
    "df_copy=df.copy()\n",
    "df_copy['job_skills']=df_copy.job_skills.apply(lambda x: ast.literal_eval(x) if pd.notna(x) else x)\n",
    "df_copy=df_copy.explode('job_skills')\n",
    "df_copy.groupby('job_title_short')['job_skills'].nunique().reset_index().head()"
   ]
  },
  {
   "cell_type": "markdown",
   "id": "dd5e17d7",
   "metadata": {},
   "source": [
    "---"
   ]
  }
 ],
 "metadata": {
  "kernelspec": {
   "display_name": "base",
   "language": "python",
   "name": "python3"
  },
  "language_info": {
   "codemirror_mode": {
    "name": "ipython",
    "version": 3
   },
   "file_extension": ".py",
   "mimetype": "text/x-python",
   "name": "python",
   "nbconvert_exporter": "python",
   "pygments_lexer": "ipython3",
   "version": "3.12.7"
  }
 },
 "nbformat": 4,
 "nbformat_minor": 5
}
