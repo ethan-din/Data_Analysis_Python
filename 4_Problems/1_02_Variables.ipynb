{
 "cells": [
  {
   "cell_type": "markdown",
   "id": "2466476d",
   "metadata": {},
   "source": [
    "<a target=\"_blank\" href=\"https://colab.research.google.com/github/lukebarousse/Python_Data_Analytics_Course/blob/main/4_Problems/1_02_Variables.ipynb\">\n",
    "  <img src=\"https://colab.research.google.com/assets/colab-badge.svg\" alt=\"Open In Colab\"/>\n",
    "</a>"
   ]
  },
  {
   "cell_type": "markdown",
   "id": "e37d427b",
   "metadata": {},
   "source": [
    "## 🟩 Job Postings Count (1.2.1)"
   ]
  },
  {
   "cell_type": "code",
   "execution_count": 1,
   "id": "050c33c7",
   "metadata": {},
   "outputs": [
    {
     "name": "stdout",
     "output_type": "stream",
     "text": [
      "42\n"
     ]
    }
   ],
   "source": [
    "job_count = 42\n",
    "print(job_count)"
   ]
  },
  {
   "cell_type": "markdown",
   "id": "d6222211",
   "metadata": {},
   "source": [
    "---"
   ]
  },
  {
   "cell_type": "markdown",
   "id": "4f5e520d",
   "metadata": {},
   "source": [
    "## 🟩 Job Information (1.2.2)"
   ]
  },
  {
   "cell_type": "code",
   "execution_count": 3,
   "id": "c2ad2c6f",
   "metadata": {},
   "outputs": [
    {
     "name": "stdout",
     "output_type": "stream",
     "text": [
      "Data Engineer DataWorks True\n"
     ]
    }
   ],
   "source": [
    "job_title = 'Data Engineer'\n",
    "company_name = 'DataWorks'\n",
    "remote = True\n",
    "print(job_title, company_name, remote)"
   ]
  },
  {
   "cell_type": "markdown",
   "id": "9410701d",
   "metadata": {},
   "source": [
    "---"
   ]
  },
  {
   "cell_type": "markdown",
   "id": "42b41453",
   "metadata": {},
   "source": [
    "## 🟨 Calculate Total Compensation (1.2.3)"
   ]
  },
  {
   "cell_type": "code",
   "execution_count": 4,
   "id": "090d299d",
   "metadata": {},
   "outputs": [
    {
     "name": "stdout",
     "output_type": "stream",
     "text": [
      "140000\n"
     ]
    }
   ],
   "source": [
    "base_salary = 120000\n",
    "bonus = 20000\n",
    "total_compensation = base_salary + bonus\n",
    "print(total_compensation)"
   ]
  },
  {
   "cell_type": "markdown",
   "id": "265b0fb2",
   "metadata": {},
   "source": [
    "---"
   ]
  },
  {
   "cell_type": "markdown",
   "id": "75d875ee",
   "metadata": {},
   "source": [
    "## 🟨 Calculate Monthly Salary (1.2.4)"
   ]
  },
  {
   "cell_type": "code",
   "execution_count": 6,
   "id": "34f25c43",
   "metadata": {},
   "outputs": [
    {
     "name": "stdout",
     "output_type": "stream",
     "text": [
      "6000.0\n"
     ]
    }
   ],
   "source": [
    "annual_salary = 72000\n",
    "months = 12\n",
    "monthly_salary = annual_salary/months\n",
    "print(monthly_salary)\n"
   ]
  },
  {
   "cell_type": "markdown",
   "id": "c56037ed",
   "metadata": {},
   "source": [
    "---"
   ]
  },
  {
   "cell_type": "markdown",
   "id": "202fff0c",
   "metadata": {},
   "source": [
    "## 🟥 Calculate Total Compensation with Bonus (1.2.5)"
   ]
  },
  {
   "cell_type": "code",
   "execution_count": 7,
   "id": "50ef2f55",
   "metadata": {},
   "outputs": [
    {
     "name": "stdout",
     "output_type": "stream",
     "text": [
      "Data Scientist AI Solutions 121000.00000000001\n"
     ]
    }
   ],
   "source": [
    "job_title = 'Data Scientist'\n",
    "company_name = 'AI Solutions'\n",
    "salary = 110000\n",
    "total_compensation = (1 + 0.1)*salary\n",
    "print(job_title, company_name, total_compensation)\n"
   ]
  },
  {
   "cell_type": "markdown",
   "id": "e7cda152",
   "metadata": {},
   "source": [
    "---"
   ]
  }
 ],
 "metadata": {
  "kernelspec": {
   "display_name": "base",
   "language": "python",
   "name": "python3"
  },
  "language_info": {
   "codemirror_mode": {
    "name": "ipython",
    "version": 3
   },
   "file_extension": ".py",
   "mimetype": "text/x-python",
   "name": "python",
   "nbconvert_exporter": "python",
   "pygments_lexer": "ipython3",
   "version": "3.12.7"
  }
 },
 "nbformat": 4,
 "nbformat_minor": 5
}
