{
 "cells": [
  {
   "cell_type": "markdown",
   "id": "fb3e5a5f",
   "metadata": {},
   "source": [
    "<a target=\"_blank\" href=\"https://colab.research.google.com/github/lukebarousse/Python_Data_Analytics_Course/blob/main/4_Problems/1_17_Lambda.ipynb\">\n",
    "  <img src=\"https://colab.research.google.com/assets/colab-badge.svg\" alt=\"Open In Colab\"/>\n",
    "</a>"
   ]
  },
  {
   "cell_type": "markdown",
   "id": "d1f5cdd2",
   "metadata": {},
   "source": [
    "## 🟩 Calculate Average Salary (1.17.1)"
   ]
  },
  {
   "cell_type": "code",
   "execution_count": 1,
   "id": "d1091543",
   "metadata": {},
   "outputs": [
    {
     "data": {
      "text/plain": [
       "108000.0"
      ]
     },
     "execution_count": 1,
     "metadata": {},
     "output_type": "execute_result"
    }
   ],
   "source": [
    "# Code Needed\n",
    "salaries = [95000, 120000, 105000, 90000, 130000]\n",
    "(lambda x: sum(x)/len(x))(salaries)"
   ]
  },
  {
   "cell_type": "markdown",
   "id": "045da046",
   "metadata": {},
   "source": [
    "---"
   ]
  },
  {
   "cell_type": "markdown",
   "id": "5f3ad67e",
   "metadata": {},
   "source": [
    "## 🟨 Filter Job Titles (1.17.2)"
   ]
  },
  {
   "cell_type": "code",
   "execution_count": 20,
   "id": "cf09815a",
   "metadata": {},
   "outputs": [
    {
     "name": "stdout",
     "output_type": "stream",
     "text": [
      "['Data Scientist', 'Data Engineer', 'Data Analyst']\n",
      "['Data Scientist', 'Data Engineer', 'Data Analyst']\n"
     ]
    }
   ],
   "source": [
    "# Code Needed\n",
    "# Create a lambda function to check if a job title contains the word 'Data' and use it to filter a list of job titles. \n",
    "# With job_titles set to ['Data Scientist', 'Data Engineer', 'Machine Learning Engineer', 'Data Analyst'].\n",
    "job_titles = ['Data Scientist', 'Data Engineer', 'Machine Learning Engineer', 'Data Analyst']\n",
    "contain=lambda x: list(i for i in x if 'Data' in i)\n",
    "print(contain(job_titles))\n",
    "\n",
    "contain=lambda x: 'Data' in x\n",
    "print(list(filter(contain,job_titles)))\n"
   ]
  },
  {
   "cell_type": "markdown",
   "id": "e43299da",
   "metadata": {},
   "source": [
    "---"
   ]
  },
  {
   "cell_type": "markdown",
   "id": "f0ba4566",
   "metadata": {},
   "source": [
    "## 🟥 Filter Remote Python Jobs (1.17.3)"
   ]
  },
  {
   "cell_type": "code",
   "execution_count": 47,
   "id": "3c4339b8",
   "metadata": {},
   "outputs": [
    {
     "name": "stdout",
     "output_type": "stream",
     "text": [
      "[{'title': 'Data Scientist', 'skills': ['Python', 'SQL'], 'remote': True}, {'title': 'Machine Learning Engineer', 'skills': ['Python', 'TensorFlow'], 'remote': True}]\n",
      "[{'title': 'Data Scientist', 'skills': ['Python', 'SQL'], 'remote': True}, {'title': 'Machine Learning Engineer', 'skills': ['Python', 'TensorFlow'], 'remote': True}]\n"
     ]
    }
   ],
   "source": [
    "# Code Needed\n",
    "# Problem Statement:\n",
    "# Create a lambda function to filter remote job postings that require Python skills from a list of job postings. The list for the variable job_postings is shown below.\n",
    "job_postings = [\n",
    "    {'title': 'Data Scientist', 'skills': ['Python', 'SQL'], 'remote': True},\n",
    "    {'title': 'Data Analyst', 'skills': ['Excel', 'SQL'], 'remote': False},\n",
    "    {'title': 'Machine Learning Engineer', 'skills': ['Python', 'TensorFlow'], 'remote': True},\n",
    "    {'title': 'Software Developer', 'skills': ['Java', 'C++'], 'remote': True}\n",
    "]\n",
    "contain=lambda x,y,z: list(i for i in job_postings if i[y] and 'Python' in i[z])\n",
    "print(contain(job_postings,'remote','skills'))\n",
    "\n",
    "contain = lambda x: x['remote'] and 'Python' in x['skills']\n",
    "print(list(filter(contain,job_postings)))\n"
   ]
  },
  {
   "cell_type": "markdown",
   "id": "96baab4a",
   "metadata": {},
   "source": [
    "---"
   ]
  },
  {
   "cell_type": "markdown",
   "id": "2a7412fc",
   "metadata": {},
   "source": []
  }
 ],
 "metadata": {
  "kernelspec": {
   "display_name": "base",
   "language": "python",
   "name": "python3"
  },
  "language_info": {
   "codemirror_mode": {
    "name": "ipython",
    "version": 3
   },
   "file_extension": ".py",
   "mimetype": "text/x-python",
   "name": "python",
   "nbconvert_exporter": "python",
   "pygments_lexer": "ipython3",
   "version": "3.12.7"
  }
 },
 "nbformat": 4,
 "nbformat_minor": 5
}
