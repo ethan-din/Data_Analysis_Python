{
 "cells": [
  {
   "cell_type": "markdown",
   "id": "9135219d",
   "metadata": {},
   "source": [
    "<a target=\"_blank\" href=\"https://colab.research.google.com/github/lukebarousse/Python_Data_Analytics_Course/blob/main/4_Problems/1_22_NumPy.ipynb\">\n",
    "  <img src=\"https://colab.research.google.com/assets/colab-badge.svg\" alt=\"Open In Colab\"/>\n",
    "</a>"
   ]
  },
  {
   "cell_type": "markdown",
   "id": "bc778d7f",
   "metadata": {},
   "source": [
    "## 🟩 Create NumPy Array (1.22.1)"
   ]
  },
  {
   "cell_type": "code",
   "execution_count": 4,
   "id": "3b7e6275",
   "metadata": {},
   "outputs": [
    {
     "name": "stdout",
     "output_type": "stream",
     "text": [
      "[10 15  7 20 25 30  5]\n"
     ]
    }
   ],
   "source": [
    "# Code Needed\n",
    "# Problem Statement:\n",
    "# Create a NumPy array representing the number of job applications received each day for a week (7 days). \n",
    "# The array should be called applications and contain the following numbers: [10, 15, 7, 20, 25, 30, 5]. Print the array.\n",
    "import numpy as np\n",
    "\n",
    "applications_list = [10, 15, 7, 20, 25, 30, 5]\n",
    "print(np.array(applications_list))"
   ]
  },
  {
   "cell_type": "markdown",
   "id": "e3e3b88b",
   "metadata": {},
   "source": [
    "---"
   ]
  },
  {
   "cell_type": "markdown",
   "id": "4b3869b5",
   "metadata": {},
   "source": [
    "## 🟩 Slicing Array (1.22.2)"
   ]
  },
  {
   "cell_type": "code",
   "execution_count": 5,
   "id": "a3f8f040",
   "metadata": {},
   "outputs": [
    {
     "name": "stdout",
     "output_type": "stream",
     "text": [
      "[10 15  7]\n"
     ]
    }
   ],
   "source": [
    "# Code Needed\n",
    "# Problem Statement:\n",
    "# Create a NumPy array representing the number of job postings for different job titles called postings. \n",
    "# The array contains [10, 15, 7, 20, 25, 30, 5]. Use slicing to get the number of postings for the first three job titles.\n",
    "import numpy as np\n",
    "\n",
    "postings_list = [10, 15, 7, 20, 25, 30, 5]\n",
    "print(np.array(postings_list)[:3])"
   ]
  },
  {
   "cell_type": "markdown",
   "id": "45a7a58a",
   "metadata": {},
   "source": [
    "---"
   ]
  },
  {
   "cell_type": "markdown",
   "id": "7b1ebbe9",
   "metadata": {},
   "source": [
    "## 🟨 Highest and Lowest Salary (1.22.3)"
   ]
  },
  {
   "cell_type": "code",
   "execution_count": 7,
   "id": "b62f9aed",
   "metadata": {},
   "outputs": [
    {
     "name": "stdout",
     "output_type": "stream",
     "text": [
      "max=95000, min=60000\n"
     ]
    }
   ],
   "source": [
    "# Code Needed\n",
    "# Problem Statement:\n",
    "# Create a NumPy array representing the salaries called salaries offered for five different job positions. \n",
    "# Calculate the highest and lowest salary using NumPy functions. The array salaries contains [70000, 85000, 60000, 95000, 80000].\n",
    "import numpy as np\n",
    "salaries_list = [70000, 85000, 60000, 95000, 80000]\n",
    "np_salaries=np.array(salaries_list)\n",
    "print(f'max={np.max(np_salaries)}, min={np.min(np_salaries)}')"
   ]
  },
  {
   "cell_type": "markdown",
   "id": "65bf8796",
   "metadata": {},
   "source": [
    "---"
   ]
  }
 ],
 "metadata": {
  "kernelspec": {
   "display_name": "base",
   "language": "python",
   "name": "python3"
  },
  "language_info": {
   "codemirror_mode": {
    "name": "ipython",
    "version": 3
   },
   "file_extension": ".py",
   "mimetype": "text/x-python",
   "name": "python",
   "nbconvert_exporter": "python",
   "pygments_lexer": "ipython3",
   "version": "3.12.7"
  }
 },
 "nbformat": 4,
 "nbformat_minor": 5
}
