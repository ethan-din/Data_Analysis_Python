{
 "cells": [
  {
   "cell_type": "markdown",
   "id": "a0409ef1",
   "metadata": {},
   "source": [
    "<a target=\"_blank\" href=\"https://colab.research.google.com/github/lukebarousse/Python_Data_Analytics_Course/blob/main/4_Problems/1_09_Dictionaries.ipynb\">\n",
    "  <img src=\"https://colab.research.google.com/assets/colab-badge.svg\" alt=\"Open In Colab\"/>\n",
    "</a>"
   ]
  },
  {
   "cell_type": "markdown",
   "id": "e9170a0a",
   "metadata": {},
   "source": [
    "## 🟩 Access Job Postings (1.9.1)"
   ]
  },
  {
   "cell_type": "code",
   "execution_count": 1,
   "id": "c94b145c",
   "metadata": {},
   "outputs": [
    {
     "name": "stdout",
     "output_type": "stream",
     "text": [
      "80\n"
     ]
    }
   ],
   "source": [
    "# Code Needed\n",
    "job_postings = {'Data Scientist': 120, 'Data Analyst': 80, 'Machine Learning Engineer': 50}\n",
    "print(job_postings['Data Analyst'])"
   ]
  },
  {
   "cell_type": "markdown",
   "id": "6206eea6",
   "metadata": {},
   "source": [
    "---"
   ]
  },
  {
   "cell_type": "markdown",
   "id": "9a967eb2",
   "metadata": {},
   "source": [
    "## 🟩 Add Job Role (1.9.2)"
   ]
  },
  {
   "cell_type": "code",
   "execution_count": 2,
   "id": "e142f46f",
   "metadata": {},
   "outputs": [
    {
     "name": "stdout",
     "output_type": "stream",
     "text": [
      "{'Data Scientist': 120, 'Data Analyst': 80, 'Machine Learning Engineer': 50, 'AI Specialist': 30}\n"
     ]
    }
   ],
   "source": [
    "# Code Needed\n",
    "job_postings = {'Data Scientist': 120, 'Data Analyst': 80, 'Machine Learning Engineer': 50}\n",
    "job_postings['AI Specialist']=30\n",
    "print(job_postings)"
   ]
  },
  {
   "cell_type": "markdown",
   "id": "3305a885",
   "metadata": {},
   "source": [
    "---"
   ]
  },
  {
   "cell_type": "markdown",
   "id": "9d1a27ec",
   "metadata": {},
   "source": [
    "## 🟨 Remove Job Role (1.9.3)"
   ]
  },
  {
   "cell_type": "code",
   "execution_count": 9,
   "id": "3e97c9cc",
   "metadata": {},
   "outputs": [
    {
     "name": "stdout",
     "output_type": "stream",
     "text": [
      "{'Data Scientist': 120, 'Data Analyst': 80}\n"
     ]
    }
   ],
   "source": [
    "# Code Needed\n",
    "job_postings = {'Data Scientist': 120, 'Data Analyst': 80, 'Machine Learning Engineer': 50}\n",
    "job_postings.pop('Machine Learning Engineer')\n",
    "print(job_postings)"
   ]
  },
  {
   "cell_type": "markdown",
   "id": "4e805b06",
   "metadata": {},
   "source": [
    "---"
   ]
  },
  {
   "cell_type": "markdown",
   "id": "bb334124",
   "metadata": {},
   "source": [
    "## 🟨 Merge Dictionaries (1.9.4)"
   ]
  },
  {
   "cell_type": "code",
   "execution_count": 16,
   "id": "d2fd3ae2",
   "metadata": {},
   "outputs": [
    {
     "name": "stdout",
     "output_type": "stream",
     "text": [
      "{'Data Scientist': 120, 'Data Analyst': 80, 'Machine Learning Engineer': 50, 'AI Specialist': 30}\n"
     ]
    }
   ],
   "source": [
    "# Code Needed\n",
    "job_postings1 = {'Data Scientist': 120, 'Data Analyst': 80}\n",
    "job_postings2 = {'Machine Learning Engineer': 50, 'AI Specialist': 30}\n",
    "job_postings1.update(job_postings2)\n",
    "print(job_postings1)"
   ]
  },
  {
   "cell_type": "markdown",
   "id": "b61f7b57",
   "metadata": {},
   "source": [
    "---"
   ]
  },
  {
   "cell_type": "markdown",
   "id": "791a349d",
   "metadata": {},
   "source": [
    "## 🟥 Create Nested Dictionary (1.9.5)"
   ]
  },
  {
   "cell_type": "code",
   "execution_count": 20,
   "id": "b5acf180",
   "metadata": {},
   "outputs": [
    {
     "name": "stdout",
     "output_type": "stream",
     "text": [
      "{'Data Scientist': {'postings': 120, 'average_salary': 120000}, 'Data Analyst': {'postings': 80, 'average_salary': 80000}, 'Machine Learning Engineer': {'postings': 50, 'average_salary': 110000}}\n"
     ]
    }
   ],
   "source": [
    "job_details={\n",
    "    'Data Scientist':{\n",
    "        'postings':120,\n",
    "        'average_salary':120000\n",
    "    },\n",
    "    'Data Analyst':{\n",
    "        'postings':80,\n",
    "        'average_salary':80000\n",
    "    },\n",
    "    'Machine Learning Engineer':{\n",
    "        'postings':50,\n",
    "        'average_salary':110000\n",
    "    }\n",
    "}\n",
    "print(job_details)"
   ]
  },
  {
   "cell_type": "markdown",
   "id": "30d9f6d7",
   "metadata": {},
   "source": [
    "---"
   ]
  }
 ],
 "metadata": {
  "kernelspec": {
   "display_name": "base",
   "language": "python",
   "name": "python3"
  },
  "language_info": {
   "codemirror_mode": {
    "name": "ipython",
    "version": 3
   },
   "file_extension": ".py",
   "mimetype": "text/x-python",
   "name": "python",
   "nbconvert_exporter": "python",
   "pygments_lexer": "ipython3",
   "version": "3.12.7"
  }
 },
 "nbformat": 4,
 "nbformat_minor": 5
}
