{
 "cells": [
  {
   "cell_type": "markdown",
   "id": "7ab4aeb5",
   "metadata": {},
   "source": [
    "<a target=\"_blank\" href=\"https://colab.research.google.com/github/lukebarousse/Python_Data_Analytics_Course/blob/main/4_Problems/1_03_Data Types.ipynb\">\n",
    "  <img src=\"https://colab.research.google.com/assets/colab-badge.svg\" alt=\"Open In Colab\"/>\n",
    "</a>"
   ]
  },
  {
   "cell_type": "markdown",
   "id": "5574e3d0",
   "metadata": {},
   "source": [
    "## 🟩 Check Data Type (1.3.1)"
   ]
  },
  {
   "cell_type": "code",
   "execution_count": 1,
   "id": "ca389065",
   "metadata": {},
   "outputs": [
    {
     "name": "stdout",
     "output_type": "stream",
     "text": [
      "<class 'str'>\n"
     ]
    }
   ],
   "source": [
    "# Code Needed\n",
    "job_title = 'Data Scientist'\n",
    "print(type(job_title))"
   ]
  },
  {
   "cell_type": "markdown",
   "id": "7b166e5c",
   "metadata": {},
   "source": [
    "---"
   ]
  },
  {
   "cell_type": "markdown",
   "id": "bc4093b6",
   "metadata": {},
   "source": [
    "## 🟩 Check Float Type (1.3.2)"
   ]
  },
  {
   "cell_type": "code",
   "execution_count": 2,
   "id": "07954965",
   "metadata": {},
   "outputs": [
    {
     "name": "stdout",
     "output_type": "stream",
     "text": [
      "<class 'float'>\n"
     ]
    }
   ],
   "source": [
    "# Code Needed\n",
    "salary = 85000.50\n",
    "print(type(salary))"
   ]
  },
  {
   "cell_type": "markdown",
   "id": "37ad30b0",
   "metadata": {},
   "source": [
    "---"
   ]
  },
  {
   "cell_type": "markdown",
   "id": "ba5f1ead",
   "metadata": {},
   "source": [
    "## 🟨 Convert to Integer (1.3.3)"
   ]
  },
  {
   "cell_type": "code",
   "execution_count": 5,
   "id": "4ab358e6",
   "metadata": {},
   "outputs": [
    {
     "name": "stdout",
     "output_type": "stream",
     "text": [
      "<class 'int'>\n"
     ]
    }
   ],
   "source": [
    "# Code Needed\n",
    "salary_rate = 120000.75\n",
    "salary_rate = int(salary_rate)\n",
    "print(type(salary_rate))"
   ]
  },
  {
   "cell_type": "markdown",
   "id": "5cd8185f",
   "metadata": {},
   "source": [
    "---"
   ]
  },
  {
   "cell_type": "markdown",
   "id": "54a9cf24",
   "metadata": {},
   "source": [
    "## 🟥 Check String Type (1.3.4)"
   ]
  },
  {
   "cell_type": "code",
   "execution_count": 6,
   "id": "b34b708d",
   "metadata": {},
   "outputs": [
    {
     "name": "stdout",
     "output_type": "stream",
     "text": [
      "True\n"
     ]
    }
   ],
   "source": [
    "# Code Needed\n",
    "company_name = 'DataWiz Inc.'\n",
    "print(isinstance(company_name,str))"
   ]
  },
  {
   "cell_type": "markdown",
   "id": "d3225984",
   "metadata": {},
   "source": [
    "---"
   ]
  }
 ],
 "metadata": {
  "kernelspec": {
   "display_name": "base",
   "language": "python",
   "name": "python3"
  },
  "language_info": {
   "codemirror_mode": {
    "name": "ipython",
    "version": 3
   },
   "file_extension": ".py",
   "mimetype": "text/x-python",
   "name": "python",
   "nbconvert_exporter": "python",
   "pygments_lexer": "ipython3",
   "version": "3.12.7"
  }
 },
 "nbformat": 4,
 "nbformat_minor": 5
}
