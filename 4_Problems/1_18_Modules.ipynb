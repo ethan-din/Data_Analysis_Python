{
 "cells": [
  {
   "cell_type": "markdown",
   "id": "54c69af0",
   "metadata": {},
   "source": [
    "<a target=\"_blank\" href=\"https://colab.research.google.com/github/lukebarousse/Python_Data_Analytics_Course/blob/main/4_Problems/1_18_Modules.ipynb\">\n",
    "  <img src=\"https://colab.research.google.com/assets/colab-badge.svg\" alt=\"Open In Colab\"/>\n",
    "</a>"
   ]
  },
  {
   "cell_type": "markdown",
   "id": "6275a2c8",
   "metadata": {},
   "source": [
    "## 🟩 Calculate Annual Salary (1.18.1)"
   ]
  },
  {
   "cell_type": "code",
   "execution_count": 3,
   "id": "61852e86",
   "metadata": {},
   "outputs": [
    {
     "name": "stdout",
     "output_type": "stream",
     "text": [
      "Overwriting salary_calculator.py\n"
     ]
    }
   ],
   "source": [
    "%%writefile salary_calculator.py\n",
    "# cell magic command to write the contents of this cell to a file called salary_calculator.py\n",
    "# Problem Statement:\n",
    "# Create a module named salary_calculator with a function calculate_annual_salary that takes an hourly wage and hours per week, and returns the annual salary. \n",
    "# Import this module and use the function to calculate the annual salary for an hourly wage of $50 and 40 hours per week.\n",
    "def calculator_annual_salary(wage,hours):\n",
    "    return wage*hours*52"
   ]
  },
  {
   "cell_type": "code",
   "execution_count": 8,
   "id": "2b16c824",
   "metadata": {},
   "outputs": [
    {
     "name": "stdout",
     "output_type": "stream",
     "text": [
      "104000\n"
     ]
    }
   ],
   "source": [
    "from salary_calculator import calculator_annual_salary\n",
    "print(calculator_annual_salary(50,40))"
   ]
  },
  {
   "cell_type": "markdown",
   "id": "1105769b",
   "metadata": {},
   "source": [
    "---"
   ]
  },
  {
   "cell_type": "markdown",
   "id": "ad5f9e59",
   "metadata": {},
   "source": [
    "## 🟨 Filter Job Postings by Location (1.18.2)"
   ]
  },
  {
   "cell_type": "code",
   "execution_count": 1,
   "id": "50c82097",
   "metadata": {},
   "outputs": [
    {
     "name": "stdout",
     "output_type": "stream",
     "text": [
      "Overwriting job_filter.py\n"
     ]
    }
   ],
   "source": [
    "%%writefile job_filter.py\n",
    "# cell magic command to write the contents of this cell to a file called job_filter.py\n",
    "# Problem Statement:\n",
    "# Create a module named job_filter with a function filter_by_location that takes a list of job postings and a location and returns a list of job postings in that location. \n",
    "# Import this module and use the function to filter job postings in 'New York'. Use the variable of job_postings shown below.\n",
    "def filter_by_location(job_postings,location):\n",
    "    return list(i for i in job_postings if location in i['location'])\n",
    "def filter_by_location2(job_postings,location):\n",
    "    contain=lambda x: location in x['location']\n",
    "    return list(filter(contain,job_postings))"
   ]
  },
  {
   "cell_type": "code",
   "execution_count": 2,
   "id": "2b9e6953",
   "metadata": {},
   "outputs": [
    {
     "name": "stdout",
     "output_type": "stream",
     "text": [
      "[{'title': 'Data Scientist', 'location': 'New York'}, {'title': 'Machine Learning Engineer', 'location': 'New York'}]\n",
      "[{'title': 'Data Scientist', 'location': 'New York'}, {'title': 'Machine Learning Engineer', 'location': 'New York'}]\n"
     ]
    }
   ],
   "source": [
    "# Code Needed\n",
    "job_postings = [\n",
    "    {'title': 'Data Scientist', 'location': 'New York'},\n",
    "    {'title': 'Data Analyst', 'location': 'San Francisco'},\n",
    "    {'title': 'Machine Learning Engineer', 'location': 'New York'}\n",
    "]\n",
    "import job_filter\n",
    "print(job_filter.filter_by_location(job_postings,'New York'))\n",
    "print(job_filter.filter_by_location2(job_postings,'New York'))"
   ]
  },
  {
   "cell_type": "markdown",
   "id": "e1861164",
   "metadata": {},
   "source": [
    "---"
   ]
  }
 ],
 "metadata": {
  "kernelspec": {
   "display_name": "base",
   "language": "python",
   "name": "python3"
  },
  "language_info": {
   "codemirror_mode": {
    "name": "ipython",
    "version": 3
   },
   "file_extension": ".py",
   "mimetype": "text/x-python",
   "name": "python",
   "nbconvert_exporter": "python",
   "pygments_lexer": "ipython3",
   "version": "3.12.7"
  }
 },
 "nbformat": 4,
 "nbformat_minor": 5
}
