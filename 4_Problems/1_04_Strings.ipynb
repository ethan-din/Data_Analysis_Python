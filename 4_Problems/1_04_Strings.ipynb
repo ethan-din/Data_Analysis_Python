{
 "cells": [
  {
   "cell_type": "markdown",
   "id": "1ecc411a",
   "metadata": {},
   "source": [
    "<a target=\"_blank\" href=\"https://colab.research.google.com/github/lukebarousse/Python_Data_Analytics_Course/blob/main/4_Problems/1_04_Strings.ipynb\">\n",
    "  <img src=\"https://colab.research.google.com/assets/colab-badge.svg\" alt=\"Open In Colab\"/>\n",
    "</a>"
   ]
  },
  {
   "cell_type": "markdown",
   "id": "c03b0f9a",
   "metadata": {},
   "source": [
    "## 🟩 Convert to Uppercase (1.4.1)"
   ]
  },
  {
   "cell_type": "code",
   "execution_count": 1,
   "id": "ed154db0",
   "metadata": {},
   "outputs": [
    {
     "data": {
      "text/plain": [
       "'DATA SCIENTIST'"
      ]
     },
     "execution_count": 1,
     "metadata": {},
     "output_type": "execute_result"
    }
   ],
   "source": [
    "# Code Needed\n",
    "job_title = 'data scientist'\n",
    "job_title.upper()"
   ]
  },
  {
   "cell_type": "markdown",
   "id": "352397ff",
   "metadata": {},
   "source": [
    "---"
   ]
  },
  {
   "cell_type": "markdown",
   "id": "4203b265",
   "metadata": {},
   "source": [
    "## 🟩 Replace Substring (1.4.2)"
   ]
  },
  {
   "cell_type": "code",
   "execution_count": 2,
   "id": "9088a3fb",
   "metadata": {},
   "outputs": [
    {
     "data": {
      "text/plain": [
       "'Data Engineer'"
      ]
     },
     "execution_count": 2,
     "metadata": {},
     "output_type": "execute_result"
    }
   ],
   "source": [
    "# Code Needed\n",
    "job_title = 'Data Analyst'\n",
    "job_title.replace('Analyst', 'Engineer')"
   ]
  },
  {
   "cell_type": "markdown",
   "id": "d3b7cb4d",
   "metadata": {},
   "source": [
    "---"
   ]
  },
  {
   "cell_type": "markdown",
   "id": "23c6e347",
   "metadata": {},
   "source": [
    "## 🟨 Concatenate Strings (1.4.3)"
   ]
  },
  {
   "cell_type": "code",
   "execution_count": 3,
   "id": "1c7fb9f8",
   "metadata": {},
   "outputs": [
    {
     "data": {
      "text/plain": [
       "'Senior Data Analyst'"
      ]
     },
     "execution_count": 3,
     "metadata": {},
     "output_type": "execute_result"
    }
   ],
   "source": [
    "# Code Needed\n",
    "seniority_level = 'Senior'\n",
    "job_title = 'Data Analyst'\n",
    "seniority_level + ' ' + job_title"
   ]
  },
  {
   "cell_type": "markdown",
   "id": "cc76f111",
   "metadata": {},
   "source": [
    "---"
   ]
  },
  {
   "cell_type": "markdown",
   "id": "ec722767",
   "metadata": {},
   "source": [
    "## 🟨 Check String Length (1.4.4)"
   ]
  },
  {
   "cell_type": "code",
   "execution_count": 4,
   "id": "9f81d0d5",
   "metadata": {},
   "outputs": [
    {
     "name": "stdout",
     "output_type": "stream",
     "text": [
      "14\n"
     ]
    }
   ],
   "source": [
    "# Code Needed\n",
    "job_title = 'Data Scientist'\n",
    "print(len(job_title))"
   ]
  },
  {
   "cell_type": "markdown",
   "id": "4a8d3a3c",
   "metadata": {},
   "source": [
    "---"
   ]
  },
  {
   "cell_type": "markdown",
   "id": "c41c4f1a",
   "metadata": {},
   "source": [
    "## 🟩 Convert to lowercase (1.4.5)"
   ]
  },
  {
   "cell_type": "code",
   "execution_count": 5,
   "id": "74a3336c",
   "metadata": {},
   "outputs": [
    {
     "name": "stdout",
     "output_type": "stream",
     "text": [
      "data engineer\n"
     ]
    }
   ],
   "source": [
    "# Code Needed\n",
    "job_title = 'DATA ENGINEER'\n",
    "print(job_title.lower())"
   ]
  },
  {
   "cell_type": "markdown",
   "id": "bfce44ab",
   "metadata": {},
   "source": [
    "---"
   ]
  }
 ],
 "metadata": {
  "kernelspec": {
   "display_name": "base",
   "language": "python",
   "name": "python3"
  },
  "language_info": {
   "codemirror_mode": {
    "name": "ipython",
    "version": 3
   },
   "file_extension": ".py",
   "mimetype": "text/x-python",
   "name": "python",
   "nbconvert_exporter": "python",
   "pygments_lexer": "ipython3",
   "version": "3.12.7"
  }
 },
 "nbformat": 4,
 "nbformat_minor": 5
}
