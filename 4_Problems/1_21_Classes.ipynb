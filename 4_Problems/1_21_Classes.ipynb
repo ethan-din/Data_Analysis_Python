{
 "cells": [
  {
   "cell_type": "markdown",
   "id": "18a8d444",
   "metadata": {},
   "source": [
    "<a target=\"_blank\" href=\"https://colab.research.google.com/github/lukebarousse/Python_Data_Analytics_Course/blob/main/4_Problems/1_21_Classes.ipynb\">\n",
    "  <img src=\"https://colab.research.google.com/assets/colab-badge.svg\" alt=\"Open In Colab\"/>\n",
    "</a>"
   ]
  },
  {
   "cell_type": "markdown",
   "id": "edc8a40a",
   "metadata": {},
   "source": [
    "## 🟩 Create JobPosting Class (1.21.1)"
   ]
  },
  {
   "cell_type": "code",
   "execution_count": 2,
   "id": "26bdb6dc",
   "metadata": {},
   "outputs": [],
   "source": [
    "# Create the JobPostings class in this code cell\n",
    "# Problem Statement:\n",
    "# Create a class named JobPosting with attributes title, company, and location.\n",
    "# Create an instance of an object (called job) of this class with the title 'Data Scientist', company 'Tech Innovations', and location 'New York'.\n",
    "# Print the attributes of the object.\n",
    "class JobPosting:\n",
    "    def __init__(self,title, company, location):\n",
    "        self.title=title\n",
    "        self.company =company\n",
    "        self.location = location\n",
    "        "
   ]
  },
  {
   "cell_type": "code",
   "execution_count": 7,
   "id": "2461f7a5",
   "metadata": {},
   "outputs": [
    {
     "name": "stdout",
     "output_type": "stream",
     "text": [
      "Data Scientist\n",
      "Tech Innovations\n",
      "New York\n"
     ]
    }
   ],
   "source": [
    "# Code Needed\n",
    "job = JobPosting('Data Scientist', 'Tech Innovations', 'New York')\n",
    "print(job.title)\n",
    "print(job.company)\n",
    "print(job.location)"
   ]
  },
  {
   "cell_type": "markdown",
   "id": "98b6caff",
   "metadata": {},
   "source": [
    "---"
   ]
  },
  {
   "cell_type": "markdown",
   "id": "b152b78d",
   "metadata": {},
   "source": [
    "## 🟨 Convert to Dictionary (1.21.2)"
   ]
  },
  {
   "cell_type": "code",
   "execution_count": 15,
   "id": "82b617cd",
   "metadata": {},
   "outputs": [],
   "source": [
    "# Create the JobPostings class in this code cell\n",
    "# Problem Statement:\n",
    "# Create a class named JobPosting with a method to_dict that converts the job posting details to a dictionary.\n",
    "# Instantiate an object (called job) of this class with the title 'Data Scientist', company 'Tech Innovations', location 'New York', and salary as 120000.\n",
    "# Convert its details to a dictionary using the to_dict method.\n",
    "# Print the dictionary.\n",
    "class JobPosting:\n",
    "    def __init__(self,title,company,location,salary):\n",
    "        self.title=title\n",
    "        self.company=company\n",
    "        self.location=location\n",
    "        self.salary=salary\n",
    "    def to_dict(self):\n",
    "        return {\n",
    "            'title':self.title,\n",
    "            'company':self.company,\n",
    "            'location':self.location,\n",
    "            'salary':self.salary\n",
    "        }\n",
    "    "
   ]
  },
  {
   "cell_type": "code",
   "execution_count": 16,
   "id": "d1bc613a",
   "metadata": {},
   "outputs": [
    {
     "data": {
      "text/plain": [
       "{'title': 'Data Scientist',\n",
       " 'company': 'Tech Innovations',\n",
       " 'location': 'New York',\n",
       " 'salary': 120000}"
      ]
     },
     "execution_count": 16,
     "metadata": {},
     "output_type": "execute_result"
    }
   ],
   "source": [
    "# Code Needed\n",
    "job = JobPosting('Data Scientist', 'Tech Innovations', 'New York', 120000)\n",
    "job.to_dict()"
   ]
  },
  {
   "cell_type": "markdown",
   "id": "68c9b6ec",
   "metadata": {},
   "source": [
    "---"
   ]
  },
  {
   "cell_type": "markdown",
   "id": "65b80ffe",
   "metadata": {},
   "source": [
    "## 🟥 Compare Job Salaries (1.21.3)"
   ]
  },
  {
   "cell_type": "code",
   "execution_count": 17,
   "id": "5d5cf1bd",
   "metadata": {},
   "outputs": [],
   "source": [
    "# Create the JobPostings class in this code cell\n",
    "# Problem Statement:\n",
    "# Create a class named JobPosting with a method compare_salary that compares the salary of two job postings and returns the title of the job with the higher salary.\n",
    "# Instantiate two objects called job1 and job2 of this class and compare their salaries using the compare_salary method.\n",
    "# The two objects are defined below in the code needed.\n",
    "class JobPosting:\n",
    "    def __init__(self,title,company,location,salary):\n",
    "        self.title=title\n",
    "        self.company=company\n",
    "        self.location=location\n",
    "        self.salary=salary\n",
    "        \n",
    "    def company_salary(self,other_job):\n",
    "        if self.salary>other_job.salary:\n",
    "            return self.title, self.salary\n",
    "        else:\n",
    "            return other_job.title , other_job.salary\n",
    "    "
   ]
  },
  {
   "cell_type": "code",
   "execution_count": null,
   "id": "5a6b25e4",
   "metadata": {},
   "outputs": [
    {
     "data": {
      "text/plain": [
       "('Data Scientist', 120000)"
      ]
     },
     "execution_count": 18,
     "metadata": {},
     "output_type": "execute_result"
    }
   ],
   "source": [
    "# Code Needed\n",
    "job1 = JobPosting('Data Scientist', 'Tech Innovations', 'New York', 120000)\n",
    "job2 = JobPosting('Data Analyst', 'Data Driven Co', 'San Francisco', 100000)\n",
    "job1.company_salary(job2)"
   ]
  },
  {
   "cell_type": "markdown",
   "id": "0f083bf1",
   "metadata": {},
   "source": [
    "---"
   ]
  }
 ],
 "metadata": {
  "kernelspec": {
   "display_name": "base",
   "language": "python",
   "name": "python3"
  },
  "language_info": {
   "codemirror_mode": {
    "name": "ipython",
    "version": 3
   },
   "file_extension": ".py",
   "mimetype": "text/x-python",
   "name": "python",
   "nbconvert_exporter": "python",
   "pygments_lexer": "ipython3",
   "version": "3.12.7"
  }
 },
 "nbformat": 4,
 "nbformat_minor": 5
}
