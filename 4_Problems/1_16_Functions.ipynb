{
 "cells": [
  {
   "cell_type": "markdown",
   "id": "47f7f9a6",
   "metadata": {},
   "source": [
    "<a target=\"_blank\" href=\"https://colab.research.google.com/github/lukebarousse/Python_Data_Analytics_Course/blob/main/4_Problems/1_16_Functions.ipynb\">\n",
    "  <img src=\"https://colab.research.google.com/assets/colab-badge.svg\" alt=\"Open In Colab\"/>\n",
    "</a>"
   ]
  },
  {
   "cell_type": "markdown",
   "id": "1db181cf",
   "metadata": {},
   "source": [
    "## 🟩 Job Title Contains (1.16.1)"
   ]
  },
  {
   "cell_type": "code",
   "execution_count": null,
   "id": "740b79a1",
   "metadata": {},
   "outputs": [
    {
     "data": {
      "text/plain": [
       "True"
      ]
     },
     "execution_count": 20,
     "metadata": {},
     "output_type": "execute_result"
    }
   ],
   "source": [
    "# Code Needed\n",
    "job_title = 'Data Scientist'\n",
    "keyword = 'Data'\n",
    "def job_title_contains(job_title,keyword):\n",
    "    if keyword in job_title:\n",
    "        return True\n",
    "    else:\n",
    "        return False\n",
    "job_title_contains(job_title,keyword)\n",
    "\n",
    "# Code Needed\n",
    "# job_title = 'Data Scientist'\n",
    "keyword = 'Data'\n",
    "def job_title_contain(job_title,keyword):\n",
    "    return keyword in job_title\n",
    "job_title_contain(job_title,keyword)"
   ]
  },
  {
   "cell_type": "markdown",
   "id": "1732d805",
   "metadata": {},
   "source": [
    "---"
   ]
  },
  {
   "cell_type": "markdown",
   "id": "14e34822",
   "metadata": {},
   "source": [
    "## 🟩 Average Salary (1.16.2)"
   ]
  },
  {
   "cell_type": "code",
   "execution_count": null,
   "id": "7662927c",
   "metadata": {},
   "outputs": [
    {
     "data": {
      "text/plain": [
       "108000.0"
      ]
     },
     "execution_count": 23,
     "metadata": {},
     "output_type": "execute_result"
    }
   ],
   "source": [
    "# Code Needed\n",
    "salaries = [95000, 120000, 105000, 90000, 130000]\n",
    "def averge_salary(salaries):\n",
    "    sum=0\n",
    "    i=0\n",
    "    for i in range(len(salaries)):\n",
    "        sum+=salaries[i]\n",
    "        i+=1\n",
    "    return sum/len(salaries)    \n",
    "averge_salary(salaries)\n",
    "\n",
    "def averge_salary(salaries):\n",
    "    return sum(salaries)/len(salaries)\n",
    "averge_salary(salaries)\n",
    "        "
   ]
  },
  {
   "cell_type": "markdown",
   "id": "1e9a1c7b",
   "metadata": {},
   "source": [
    "---"
   ]
  },
  {
   "cell_type": "markdown",
   "id": "21247fbc",
   "metadata": {},
   "source": [
    "## 🟨 Salary Statistics (1.16.3)"
   ]
  },
  {
   "cell_type": "code",
   "execution_count": 26,
   "id": "a1b6cf11",
   "metadata": {},
   "outputs": [
    {
     "data": {
      "text/plain": [
       "(130000, 90000, 108000.0)"
      ]
     },
     "execution_count": 26,
     "metadata": {},
     "output_type": "execute_result"
    }
   ],
   "source": [
    "# Code Needed\n",
    "salaries = [95000, 120000, 105000, 90000, 130000]\n",
    "def salary_stat(salaries):\n",
    "    return max(salaries),min(salaries),sum(salaries)/len(salaries)\n",
    "salary_stat(salaries)"
   ]
  },
  {
   "cell_type": "markdown",
   "id": "99eed404",
   "metadata": {},
   "source": [
    "---"
   ]
  },
  {
   "cell_type": "markdown",
   "id": "e833849f",
   "metadata": {},
   "source": [
    "## 🟥 Job Posting Summary (1.16.4)"
   ]
  },
  {
   "cell_type": "code",
   "execution_count": null,
   "id": "cb857ad6",
   "metadata": {},
   "outputs": [
    {
     "data": {
      "text/plain": [
       "{'total_postings': 3,\n",
       " 'average_salary': 98333.33333333333,\n",
       " 'unique_locations': ['New York', 'San Francisco']}"
      ]
     },
     "execution_count": 92,
     "metadata": {},
     "output_type": "execute_result"
    }
   ],
   "source": [
    "# Code Needed\n",
    "job_postings = [\n",
    "    {'title': 'Data Scientist', 'location': 'New York', 'salary': 95000},\n",
    "    {'title': 'Data Analyst', 'location': 'San Francisco', 'salary': 85000},\n",
    "    {'title': 'Machine Learning Engineer', 'location': 'New York', 'salary': 115000}\n",
    "]\n",
    "\n",
    "def job_posting_summary(job_postings):\n",
    "    result={'total_postings':_,'average_salary':_,'unique_locations':_}\n",
    "    result.update({'total_postings':len(job_postings)})\n",
    "    result.update({'average_salary':sum(i['salary'] for i in job_postings)/3})\n",
    "    result.update({'unique_locations':list(set(i['location'] for i in job_postings))})\n",
    "    return result\n",
    "job_posting_summary(job_postings)\n",
    "\n",
    "\n",
    "        "
   ]
  },
  {
   "cell_type": "code",
   "execution_count": 93,
   "id": "4e8905c4",
   "metadata": {},
   "outputs": [
    {
     "data": {
      "text/plain": [
       "{'total_postings': 3,\n",
       " 'average_salary': 98333.33333333333,\n",
       " 'unique_locations': ['New York', 'San Francisco']}"
      ]
     },
     "execution_count": 93,
     "metadata": {},
     "output_type": "execute_result"
    }
   ],
   "source": [
    "# Code Needed\n",
    "job_postings = [\n",
    "    {'title': 'Data Scientist', 'location': 'New York', 'salary': 95000},\n",
    "    {'title': 'Data Analyst', 'location': 'San Francisco', 'salary': 85000},\n",
    "    {'title': 'Machine Learning Engineer', 'location': 'New York', 'salary': 115000}\n",
    "]\n",
    "\n",
    "def job_posting_summary(job_postings):\n",
    "    return {\n",
    "        'total_postings':len(job_postings),\n",
    "        'average_salary':sum(i['salary'] for i in job_postings)/3,\n",
    "        'unique_locations':list(set(i['location'] for i in job_postings))\n",
    "    }\n",
    "job_posting_summary(job_postings)"
   ]
  }
 ],
 "metadata": {
  "kernelspec": {
   "display_name": "base",
   "language": "python",
   "name": "python3"
  },
  "language_info": {
   "codemirror_mode": {
    "name": "ipython",
    "version": 3
   },
   "file_extension": ".py",
   "mimetype": "text/x-python",
   "name": "python",
   "nbconvert_exporter": "python",
   "pygments_lexer": "ipython3",
   "version": "3.12.7"
  }
 },
 "nbformat": 4,
 "nbformat_minor": 5
}
