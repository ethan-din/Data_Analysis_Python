{
 "cells": [
  {
   "cell_type": "markdown",
   "id": "707277df",
   "metadata": {},
   "source": [
    "<a target=\"_blank\" href=\"https://colab.research.google.com/github/lukebarousse/Python_Data_Analytics_Course/blob/main/4_Problems/1_05_String Formatting.ipynb\">\n",
    "  <img src=\"https://colab.research.google.com/assets/colab-badge.svg\" alt=\"Open In Colab\"/>\n",
    "</a>"
   ]
  },
  {
   "cell_type": "markdown",
   "id": "33249ddd",
   "metadata": {},
   "source": [
    "## 🟩 Concatenate Strings (1.5.1)"
   ]
  },
  {
   "cell_type": "code",
   "execution_count": 3,
   "id": "f5eb44b1",
   "metadata": {},
   "outputs": [
    {
     "name": "stdout",
     "output_type": "stream",
     "text": [
      "J0b Title: Data Scientist\n"
     ]
    }
   ],
   "source": [
    "# Code Needed\n",
    "job_title = 'Data Scientist'\n",
    "print('J0b Title:' +' '+ job_title)"
   ]
  },
  {
   "cell_type": "markdown",
   "id": "ceadadd2",
   "metadata": {},
   "source": [
    "---"
   ]
  },
  {
   "cell_type": "markdown",
   "id": "4b752a3b",
   "metadata": {},
   "source": [
    "## 🟩 Format with f-strings (1.5.2)"
   ]
  },
  {
   "cell_type": "code",
   "execution_count": 4,
   "id": "f1dd6630",
   "metadata": {},
   "outputs": [
    {
     "data": {
      "text/plain": [
       "'Data Scientist at DataWiz Inc.'"
      ]
     },
     "execution_count": 4,
     "metadata": {},
     "output_type": "execute_result"
    }
   ],
   "source": [
    "# Code Needed\n",
    "position = 'Data Scientist'\n",
    "company = 'DataWiz Inc.'\n",
    "f'{position} at {company}'"
   ]
  },
  {
   "cell_type": "markdown",
   "id": "f3b9b437",
   "metadata": {},
   "source": [
    "---"
   ]
  },
  {
   "cell_type": "markdown",
   "id": "7ccbfb33",
   "metadata": {},
   "source": [
    "## 🟩 Format with str.format() (1.5.3)"
   ]
  },
  {
   "cell_type": "code",
   "execution_count": 11,
   "id": "3ad6287a",
   "metadata": {},
   "outputs": [
    {
     "data": {
      "text/plain": [
       "'Role: Data Analyst; Skill: Python'"
      ]
     },
     "execution_count": 11,
     "metadata": {},
     "output_type": "execute_result"
    }
   ],
   "source": [
    "# Code Needed\n",
    "role = 'Data Analyst'\n",
    "skill = 'Python'\n",
    "'Role: {}; Skill: {}'.format(role, skill)"
   ]
  },
  {
   "cell_type": "markdown",
   "id": "553e97a6",
   "metadata": {},
   "source": [
    "---"
   ]
  },
  {
   "cell_type": "markdown",
   "id": "2539859a",
   "metadata": {},
   "source": [
    "## 🟨 Format with %-formatting (1.5.4)"
   ]
  },
  {
   "cell_type": "code",
   "execution_count": 12,
   "id": "88cfb9fa",
   "metadata": {},
   "outputs": [
    {
     "data": {
      "text/plain": [
       "'Role: Data Engineer; Skill: SQL'"
      ]
     },
     "execution_count": 12,
     "metadata": {},
     "output_type": "execute_result"
    }
   ],
   "source": [
    "# Code Needed\n",
    "role = 'Data Engineer'\n",
    "skill = 'SQL'\n",
    "'Role: %s; Skill: %s' %(role,skill)"
   ]
  },
  {
   "cell_type": "markdown",
   "id": "d6081ce3",
   "metadata": {},
   "source": [
    "---"
   ]
  }
 ],
 "metadata": {
  "kernelspec": {
   "display_name": "base",
   "language": "python",
   "name": "python3"
  },
  "language_info": {
   "codemirror_mode": {
    "name": "ipython",
    "version": 3
   },
   "file_extension": ".py",
   "mimetype": "text/x-python",
   "name": "python",
   "nbconvert_exporter": "python",
   "pygments_lexer": "ipython3",
   "version": "3.12.7"
  }
 },
 "nbformat": 4,
 "nbformat_minor": 5
}
